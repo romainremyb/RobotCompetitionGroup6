{
 "cells": [
  {
   "cell_type": "code",
   "execution_count": 1,
   "metadata": {},
   "outputs": [],
   "source": [
    "import numpy as np\n",
    "from sklearn.linear_model import LinearRegression"
   ]
  },
  {
   "cell_type": "code",
   "execution_count": 13,
   "metadata": {},
   "outputs": [
    {
     "name": "stdout",
     "output_type": "stream",
     "text": [
      "[2.33888889]\n",
      "12.5\n"
     ]
    }
   ],
   "source": [
    "degreesX=np.array([90,180,270,360]).reshape(-1, 1)\n",
    "degreesy=np.array([220,435,650,850])\n",
    "reg = LinearRegression().fit(degreesX, degreesy)\n",
    "print(reg.coef_)\n",
    "print(reg.intercept_)"
   ]
  },
  {
   "cell_type": "code",
   "execution_count": 15,
   "metadata": {},
   "outputs": [
    {
     "data": {
      "text/plain": [
       "433.7"
      ]
     },
     "execution_count": 15,
     "metadata": {},
     "output_type": "execute_result"
    }
   ],
   "source": [
    "def linear(x):\n",
    "    return 12.5 +2.34*x\n",
    "linear(180)"
   ]
  },
  {
   "cell_type": "code",
   "execution_count": 4,
   "metadata": {},
   "outputs": [
    {
     "name": "stdout",
     "output_type": "stream",
     "text": [
      "[20.94234179]\n",
      "-6.653811450869739\n"
     ]
    }
   ],
   "source": [
    "distX=np.array([2.8,7.45,15,28,48.5,57.8,143.5]).reshape(-1, 1)\n",
    "disty=np.array([50,150,300,600,1000,1200,3000])\n",
    "reg = LinearRegression().fit(distX, disty)\n",
    "print(reg.coef_)\n",
    "print(reg.intercept_)"
   ]
  },
  {
   "cell_type": "code",
   "execution_count": null,
   "metadata": {},
   "outputs": [],
   "source": []
  }
 ],
 "metadata": {
  "kernelspec": {
   "display_name": "Python 3",
   "language": "python",
   "name": "python3"
  },
  "language_info": {
   "codemirror_mode": {
    "name": "ipython",
    "version": 3
   },
   "file_extension": ".py",
   "mimetype": "text/x-python",
   "name": "python",
   "nbconvert_exporter": "python",
   "pygments_lexer": "ipython3",
   "version": "3.10.0 (default, Dec 21 2022, 12:00:12) [Clang 14.0.0 (clang-1400.0.29.202)]"
  },
  "orig_nbformat": 4,
  "vscode": {
   "interpreter": {
    "hash": "7fd88482a8a8f0a614a0a2abe69f1e0634d10a65c203aacb23802ea6786e81b7"
   }
  }
 },
 "nbformat": 4,
 "nbformat_minor": 2
}
